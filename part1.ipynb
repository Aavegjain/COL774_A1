{
 "cells": [
  {
   "cell_type": "code",
   "execution_count": null,
   "metadata": {},
   "outputs": [],
   "source": [
    "import pandas as pd \n",
    "import numpy as np \n",
    "import matplotlib.pyplot as plt\n",
    "import matplotlib.animation as animation \n",
    "import mpl_toolkits.mplot3d.axes3d as p3\n"
   ]
  },
  {
   "cell_type": "code",
   "execution_count": null,
   "metadata": {},
   "outputs": [],
   "source": [
    "acidities = pd.read_csv(\"./ass1_data/data/q1/linearX.csv\")\n",
    "densities = pd.read_csv(\"./ass1_data/data/q1/linearY.csv\") "
   ]
  },
  {
   "cell_type": "code",
   "execution_count": null,
   "metadata": {},
   "outputs": [],
   "source": [
    "def normalize(arr):\n",
    "    mean = arr.mean()\n",
    "    # print(mean) \n",
    "    # variance = acid_arr.var() \n",
    "    std_dev = arr.std()  \n",
    "    arr = (arr - mean)/std_dev  \n",
    "    return arr "
   ]
  },
  {
   "cell_type": "code",
   "execution_count": null,
   "metadata": {},
   "outputs": [],
   "source": [
    "\n",
    "acid_arr = acidities[\"Acidities\"].to_numpy()\n",
    "acid_arr = normalize(acid_arr) \n",
    "# print(acid_arr) \n",
    "\n",
    "acidities[\"Intercept\"] = 1 \n",
    "cols = acidities.columns.to_list() \n",
    "cols = cols[1:] + cols[:1] \n",
    "acidities = acidities[cols]   \n",
    "acidities[\"Acidities\"] = acid_arr\n",
    "# print(acidities) \n",
    "\n",
    "density_arr = densities[\"Densities\"].to_numpy() \n",
    "density_arr = normalize(density_arr)\n",
    "densities[\"Densities\"] = density_arr \n"
   ]
  },
  {
   "cell_type": "code",
   "execution_count": null,
   "metadata": {},
   "outputs": [],
   "source": [
    "def compute_error(theta, X, Y):\n",
    "    Z = np.matmul(X, theta) - Y \n",
    "    m = Y.size\n",
    "    return (np.matmul(np.transpose(Z), Z))/(2*m) "
   ]
  },
  {
   "cell_type": "code",
   "execution_count": null,
   "metadata": {},
   "outputs": [],
   "source": [
    "def compute_gradient(theta , X, Y) : \n",
    "    Z = Y - np.matmul(X, theta) \n",
    "    # print(Z)\n",
    "    gradient = np.zeros(theta.size)\n",
    "    m = Y.size  \n",
    "    for j in range(theta.size):\n",
    "        X_j = X[:, j] \n",
    "        gradient[j] = np.sum(Z * X_j) / m  \n",
    "    # gradient = np.sum( Z * X , axis = 0)\n",
    "    # print(gradient)  \n",
    "    return gradient "
   ]
  },
  {
   "cell_type": "code",
   "execution_count": null,
   "metadata": {},
   "outputs": [],
   "source": [
    "dim = 2 \n",
    "theta = np.zeros(dim) \n",
    "X = acidities.to_numpy()  \n",
    "Y = density_arr \n",
    "\n",
    "learning_param = 0.1 \n",
    "\n",
    "inv = np.linalg.inv(np.matmul(np.transpose(X), X)) \n",
    "actual_theta = np.matmul(np.matmul(inv, np.transpose(X)), Y) \n",
    "\n",
    "no_of_iterations = 0\n",
    "# initial_error = compute_error(theta, X, Y) \n",
    "# error = initial_error \n",
    "# epsilon = 0.0000001 * initial_error \n",
    "# prev_error = 2*initial_error # some large value initially   \n",
    "\n",
    "plot_data = [] \n",
    "current_grad = compute_gradient(theta, X, Y) \n",
    "epsilon = 0.001 * np.linalg.norm(current_grad) \n",
    "while (np.linalg.norm(current_grad) > epsilon):\n",
    "       # prev_error = error \n",
    "       current_grad = compute_gradient(theta, X, Y )\n",
    "       theta = theta + learning_param * current_grad \n",
    "       error = compute_error(theta, X,Y)  \n",
    "       plot_data.append([theta[0], theta[1], error]) \n",
    "       print(\"error is\", error)  \n",
    "       # print(\"current theta is\", theta ) \n",
    "       no_of_iterations += 1 \n",
    "\n",
    "# print(plot_data)\n",
    "print(\"gradient descent result is\",theta)\n",
    "print(\"actual theta is\", actual_theta)  \n",
    "print(f\"no of iterations is {no_of_iterations}\") "
   ]
  },
  {
   "cell_type": "markdown",
   "metadata": {},
   "source": [
    "## plotting  the data"
   ]
  },
  {
   "cell_type": "code",
   "execution_count": null,
   "metadata": {},
   "outputs": [],
   "source": [
    "plt.scatter(acid_arr, Y, label = \"training set\") \n",
    "plt.title(\"Training set vs hypothesis function\")\n",
    "\n",
    "H_theta = np.matmul(  acidities, theta ) \n",
    "# label = \"slope = \" + str(theta[1]) + \"\\n intercept = \" + str(theta[0]) \n",
    "plt.plot(acid_arr, H_theta, label = \"hypothesis function\", color = \"green\") \n",
    "\n",
    "plt.xlabel(\"X axis (normalized acidities)\") \n",
    "plt.ylabel(\"Y axis (normalized densities)\" )\n",
    "\n",
    "plt.legend()\n",
    "plt.show()"
   ]
  },
  {
   "cell_type": "markdown",
   "metadata": {},
   "source": [
    "## 3D mesh plot of error function"
   ]
  },
  {
   "cell_type": "code",
   "execution_count": null,
   "metadata": {},
   "outputs": [],
   "source": [
    "%matplotlib ipympl \n",
    "\n",
    "theta_x = np.arange(-0.5 , 0.5, 0.1 ) \n",
    "theta_y = np.arange(0,1 , 0.1) \n",
    "X_mesh, Y_mesh = np.meshgrid(theta_x, theta_y) \n",
    "print(X_mesh) \n",
    "print(Y_mesh)\n",
    "X_row, X_col = X_mesh.shape\n",
    "Y_row, Y_col = Y_mesh.shape \n",
    "\n",
    "error_surface = np.zeros((X_row, X_col))  \n",
    "# print(X) \n",
    "\n",
    "for i in range(X_row):\n",
    "    for j in range(X_col):\n",
    "        x_coord = X_mesh[i,j] \n",
    "        y_coord = Y_mesh[i,j] \n",
    "        temp_theta = np.array([x_coord, y_coord])   \n",
    "        error_surface[i,j] = compute_error(temp_theta, X, Y) \n"
   ]
  },
  {
   "cell_type": "code",
   "execution_count": null,
   "metadata": {},
   "outputs": [],
   "source": [
    "\n",
    "# Initialize the plot and set up the 3D scatter plot\n",
    "fig = plt.figure()\n",
    "ax = fig.add_subplot(111, projection='3d')\n",
    "sc = ax.scatter([], [], [], c='b', marker='.', s = 10, alpha=0.7)\n",
    "\n",
    "ax.set(xlim3d=(-0.5, 0.5), xlabel='Theta 0')\n",
    "ax.set(ylim3d=(0, 1), ylabel='Theta 1')\n",
    "ax.set(zlim3d=(0.2, 0.7), zlabel='Z')\n",
    "\n",
    "ax.plot_surface(X_mesh, Y_mesh, error_surface, alpha = 0.4)   \n",
    "\n",
    "\n",
    "# Initialization function\n",
    "def init():\n",
    "    sc._offsets3d = ([], [], [])\n",
    "    return sc,\n",
    "\n",
    "# Animation function\n",
    "def update(frame):\n",
    "    # if (frame % 5 == 0):\n",
    "    x, y, z = zip(*plot_data[:frame+1])\n",
    "    sc._offsets3d = (x, y, z)\n",
    "    return sc,\n",
    "\n",
    "azim_angle = 6  # Adjust the azimuth angle (horizontal rotation)\n",
    "elev_angle = 32  # Adjust the elevation angle (vertical rotation)\n",
    "ax.view_init(elev=elev_angle, azim=azim_angle)\n",
    "\n",
    "# Create the animation\n",
    "frame_interval = 200 \n",
    "ani = animation.FuncAnimation(fig, update, frames=len(plot_data), init_func=init, blit=True, interval = \n",
    "                              frame_interval)\n",
    "ani.save(\"1_e_animation.png\", writer='imagemagick') \n",
    "# Display the animation\n",
    "plt.show()"
   ]
  },
  {
   "cell_type": "code",
   "execution_count": null,
   "metadata": {},
   "outputs": [],
   "source": []
  },
  {
   "cell_type": "markdown",
   "metadata": {},
   "source": []
  }
 ],
 "metadata": {
  "kernelspec": {
   "display_name": "base",
   "language": "python",
   "name": "python3"
  },
  "language_info": {
   "codemirror_mode": {
    "name": "ipython",
    "version": 3
   },
   "file_extension": ".py",
   "mimetype": "text/x-python",
   "name": "python",
   "nbconvert_exporter": "python",
   "pygments_lexer": "ipython3",
   "version": "3.11.4"
  },
  "orig_nbformat": 4
 },
 "nbformat": 4,
 "nbformat_minor": 2
}
