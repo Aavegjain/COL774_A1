{
 "cells": [
  {
   "cell_type": "code",
   "execution_count": 49,
   "metadata": {},
   "outputs": [],
   "source": [
    "import numpy as np \n",
    "import pandas as pd  \n",
    "import matplotlib.pyplot as plt"
   ]
  },
  {
   "cell_type": "code",
   "execution_count": 50,
   "metadata": {},
   "outputs": [],
   "source": [
    "def normalize(arr):\n",
    "    mean = arr.mean()\n",
    "    # print(mean) \n",
    "    # variance = acid_arr.var() \n",
    "    std_dev = arr.std()  \n",
    "    arr = (arr - mean)/std_dev  \n",
    "    return arr"
   ]
  },
  {
   "cell_type": "code",
   "execution_count": 51,
   "metadata": {},
   "outputs": [],
   "source": [
    "def sigmoid(x):\n",
    "    z = np.exp(-x) \n",
    "    return (1 / (1 + z)) "
   ]
  },
  {
   "cell_type": "code",
   "execution_count": 52,
   "metadata": {},
   "outputs": [],
   "source": [
    "test_input = pd.read_csv(\"./ass1_data/data/q3/logisticX.csv\") \n",
    "test_output = pd.read_csv(\"./ass1_data/data/q3/logisticY.csv\") \n",
    "\n",
    "Y = test_output[\"y\"].to_numpy() \n",
    "\n",
    "x1 = test_input[\"x1\"].to_numpy() \n",
    "x1 = normalize(x1) \n",
    "\n",
    "x2 = test_input[\"x2\"].to_numpy() \n",
    "x2 = normalize(x2)\n",
    "\n",
    "X = np.zeros((Y.size, 3)) \n",
    "X[:, 0] = 1 \n",
    "X[:, 1] = x1  \n",
    "X[:, 2] = x2  "
   ]
  },
  {
   "cell_type": "code",
   "execution_count": 53,
   "metadata": {},
   "outputs": [],
   "source": [
    "def compute_gradient(theta , X, Y) : \n",
    "    z = sigmoid(np.matmul(X, theta)) \n",
    "    Z = Y - z   \n",
    "    # print(Y)\n",
    "    gradient = np.zeros(theta.size)\n",
    "    for j in range(theta.size):\n",
    "        X_j = X[:, j] \n",
    "        gradient[j] = np.sum(Z * X_j)  \n",
    "    # gradient = np.sum( Z * X , axis = 0)\n",
    "    # print(gradient)  \n",
    "    return gradient \n",
    "\n",
    "# theta = np.zeros((3,)) \n",
    "# print(compute_gradient(theta, X, Y))"
   ]
  },
  {
   "cell_type": "code",
   "execution_count": 54,
   "metadata": {},
   "outputs": [],
   "source": [
    "def compute_hessian(theta, X, Y):\n",
    "    n = theta.size \n",
    "    hessian = np.zeros((n , n ))\n",
    "    for i in range(n):\n",
    "        for j in range(n):\n",
    "            z = sigmoid(np.matmul(X, theta)) \n",
    "            comp1 = -X[:,i] * X[:, j] * z * (1 - z) \n",
    "            hessian[i, j] = np.sum(comp1)\n",
    "    return hessian "
   ]
  },
  {
   "cell_type": "code",
   "execution_count": 55,
   "metadata": {},
   "outputs": [],
   "source": [
    "def compute_log_likelihood(theta, X, Y):\n",
    "    z = sigmoid(np.matmul(X, theta)) \n",
    "    \n",
    "    log1 = np.log(z) \n",
    "    # print(1 - z) \n",
    "    log2 = np.log(1 - z) \n",
    "    error_vector = Y * log1 + (1 - Y) * log2 \n",
    "    return np.sum(error_vector) "
   ]
  },
  {
   "cell_type": "code",
   "execution_count": 56,
   "metadata": {},
   "outputs": [],
   "source": [
    "def per_change(ll1, ll2):\n",
    "    diff = ll2 - ll1\n",
    "    return abs(diff/ ll1) "
   ]
  },
  {
   "cell_type": "code",
   "execution_count": 57,
   "metadata": {},
   "outputs": [],
   "source": [
    "def newton_raphson(X, Y):\n",
    "    n = X[0].size \n",
    "    theta = np.zeros(n) \n",
    "    learning_parameter = 1\n",
    "\n",
    "    ll_curr , ll_prev = 0,0 \n",
    "    count = 0\n",
    "    while (True):\n",
    "        print(f\"theta is {theta}\") \n",
    "        ll_prev = ll_curr \n",
    "        ll_curr = compute_log_likelihood(theta, X, Y) \n",
    "        print(f\"log likelihood is {ll_curr}\") \n",
    "\n",
    "        gradient = compute_gradient(theta, X, Y) \n",
    "        hessian = compute_hessian(theta, X, Y) \n",
    "        # print(f\"grad and hessian are {gradient} \\n {hessian}\") \n",
    "        # prev_theta = theta \n",
    "        theta = theta - learning_parameter * np.matmul(np.linalg.inv(hessian), gradient) \n",
    "        count += 1\n",
    "        if (ll_prev != 0 and per_change(ll_prev, ll_curr) < 0.01): break \n",
    "\n",
    "\n",
    "    print(f\"learned theta is {theta}\")\n",
    "    ll = compute_log_likelihood(theta, X, Y) \n",
    "    print(f\"log likelihood is {ll}\") \n",
    "    print(f\"no of iterations is {count}\") \n",
    "\n",
    "    return theta \n",
    "\n"
   ]
  },
  {
   "cell_type": "code",
   "execution_count": 58,
   "metadata": {},
   "outputs": [
    {
     "name": "stdout",
     "output_type": "stream",
     "text": [
      "theta is [0. 0. 0.]\n",
      "log likelihood is -69.31471805599453\n",
      "theta is [ 1.63523661e-16  8.97341408e-01 -9.20112283e-01]\n",
      "log likelihood is -33.42765918144596\n",
      "theta is [ 0.0916248   1.54658764 -1.57249997]\n",
      "log likelihood is -25.715465984754918\n",
      "theta is [ 0.22925374  2.10393545 -2.18620038]\n",
      "log likelihood is -23.313638603439095\n",
      "theta is [ 0.35177461  2.46348281 -2.59033635]\n",
      "log likelihood is -22.860968949336556\n",
      "theta is [ 0.39743593  2.57939935 -2.71602845]\n",
      "log likelihood is -22.83427892979582\n",
      "learned theta is [ 0.40123187  2.58849794 -2.7255376 ]\n",
      "log likelihood is -22.834144988370543\n",
      "no of iterations is 6\n"
     ]
    }
   ],
   "source": [
    "theta = newton_raphson(X, Y)\n",
    "#  -2.89810623, -21.28638967,  21.56474613 "
   ]
  },
  {
   "cell_type": "code",
   "execution_count": 59,
   "metadata": {},
   "outputs": [],
   "source": [
    "def plot_line(theta, legend):\n",
    "    x_coords = np.arange(-3,3, 0.5) \n",
    "    # print(x_coords)\n",
    "    print(theta)\n",
    "    y_coords = (-theta[0] - theta[1] * x_coords )/ theta[2] \n",
    "    plt.plot(x_coords, y_coords, label = legend, color = \"green\")\n",
    "    plt.xlabel(\"x1\")\n",
    "    plt.ylabel(\"x2\")"
   ]
  },
  {
   "cell_type": "code",
   "execution_count": 60,
   "metadata": {},
   "outputs": [
    {
     "name": "stdout",
     "output_type": "stream",
     "text": [
      "[ 0.40123187  2.58849794 -2.7255376 ]\n"
     ]
    },
    {
     "data": {
      "image/png": "[encoded data removed]",
      "text/plain": [
       "<Figure size 640x480 with 1 Axes>"
      ]
     },
     "metadata": {},
     "output_type": "display_data"
    }
   ],
   "source": [
    "class1 = np.array([[1,2,3]]) \n",
    "class2 = np.array([[1,2,3]]) \n",
    "\n",
    "for i in range(Y.size):\n",
    "    if (Y[i] == 0): class1 = np.append(class1, [X[i]], 0) \n",
    "    else: class2 = np.append(class2, [X[i]], 0) \n",
    "\n",
    "x = class1[1:, 1] \n",
    "y = class1[1:, 2] \n",
    "\n",
    "plt.scatter(x, y, marker = \"*\", label = \"0\")\n",
    "\n",
    "x = class2[:, 1] \n",
    "y = class2[:, 2] \n",
    "plt.scatter(x, y, marker = \"+\", label = \"1\")\n",
    "\n",
    "plot_line(theta, \"hypothesis\") \n",
    "\n",
    "plt.legend() \n",
    "\n",
    "\n",
    "plt.show() \n"
   ]
  }
 ],
 "metadata": {
  "kernelspec": {
   "display_name": "base",
   "language": "python",
   "name": "python3"
  },
  "language_info": {
   "codemirror_mode": {
    "name": "ipython",
    "version": 3
   },
   "file_extension": ".py",
   "mimetype": "text/x-python",
   "name": "python",
   "nbconvert_exporter": "python",
   "pygments_lexer": "ipython3",
   "version": "3.11.4"
  },
  "orig_nbformat": 4
 },
 "nbformat": 4,
 "nbformat_minor": 2
}
