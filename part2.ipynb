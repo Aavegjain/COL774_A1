{
 "cells": [
  {
   "cell_type": "code",
   "execution_count": 9,
   "metadata": {},
   "outputs": [],
   "source": [
    "import numpy as np \n",
    "import pandas as pd \n",
    "import math "
   ]
  },
  {
   "cell_type": "code",
   "execution_count": 14,
   "metadata": {},
   "outputs": [
    {
     "name": "stdout",
     "output_type": "stream",
     "text": [
      "4.003484231394267\n"
     ]
    }
   ],
   "source": [
    "# sampling x \n",
    "x1 = np.random.normal(3 , 2, (1000000,) ) \n",
    "x2 = np.random.normal(-1, 2 , (1000000,)) \n",
    "x = np.zeros((1000000, 3)) \n",
    "\n",
    "x[:, 0] = 1 # adding intercept term \n",
    "x[:, 1] = x1 \n",
    "x[:, 2] = x2 \n",
    "# print(np.var(x[:, 1]))  \n",
    "\n",
    "# sampling y \n",
    "\n",
    "theta = np.array([3,1,2]) \n",
    "y = np.matmul(x, theta) \n",
    "y += np.random.normal(0, math.sqrt(2) , y.shape)  \n",
    "# print(np.mean(y)) \n",
    "\n"
   ]
  },
  {
   "cell_type": "code",
   "execution_count": null,
   "metadata": {},
   "outputs": [],
   "source": []
  }
 ],
 "metadata": {
  "kernelspec": {
   "display_name": "base",
   "language": "python",
   "name": "python3"
  },
  "language_info": {
   "codemirror_mode": {
    "name": "ipython",
    "version": 3
   },
   "file_extension": ".py",
   "mimetype": "text/x-python",
   "name": "python",
   "nbconvert_exporter": "python",
   "pygments_lexer": "ipython3",
   "version": "3.11.4"
  },
  "orig_nbformat": 4
 },
 "nbformat": 4,
 "nbformat_minor": 2
}
