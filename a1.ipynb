{
 "cells": [
  {
   "cell_type": "code",
   "execution_count": 15,
   "metadata": {},
   "outputs": [],
   "source": [
    "import pandas as pd \n",
    "import numpy as np "
   ]
  },
  {
   "cell_type": "code",
   "execution_count": 36,
   "metadata": {},
   "outputs": [],
   "source": [
    "acidities = pd.read_csv(\"./ass1_data/data/q1/linearX.csv\")\n",
    "densities = pd.read_csv(\"./ass1_data/data/q1/linearY.csv\") "
   ]
  },
  {
   "cell_type": "code",
   "execution_count": null,
   "metadata": {},
   "outputs": [],
   "source": [
    "def normalize(arr):\n",
    "    mean = arr.mean()\n",
    "    # print(mean) \n",
    "    # variance = acid_arr.var() \n",
    "    std_dev = arr.std()  \n",
    "    arr = (arr - mean)/std_dev  \n",
    "    return arr "
   ]
  },
  {
   "cell_type": "code",
   "execution_count": 43,
   "metadata": {},
   "outputs": [],
   "source": [
    "\n",
    "acid_arr = acidities[\"Acidities\"].to_numpy()\n",
    "acid_arr = normalize(acid_arr) \n",
    "# print(acid_arr) \n",
    "\n",
    "acidities[\"Intercept\"] = 1 \n",
    "cols = acidities.columns.to_list() \n",
    "cols = cols[1:] + cols[:1] \n",
    "acidities = acidities[cols]   \n",
    "acidities[\"Acidities\"] = acid_arr\n",
    "# print(acidities) \n",
    "\n",
    "density_arr = densities[\"Densities\"].to_numpy() \n",
    "density_arr = normalize(density_arr)\n",
    "densities[\"Densities\"] = density_arr \n"
   ]
  },
  {
   "cell_type": "code",
   "execution_count": 57,
   "metadata": {},
   "outputs": [
    {
     "name": "stdout",
     "output_type": "stream",
     "text": [
      "[[1 4]\n",
      " [2 6]]\n",
      "[ 3 10]\n"
     ]
    }
   ],
   "source": [
    "a1 = np.array([1,2]) \n",
    "a2 = np.array([[1,2],[2,3]]) \n",
    "a3 = a1 * a2\n",
    "# print(a3) \n",
    "# print(a3.sum(axis = 0))"
   ]
  },
  {
   "cell_type": "code",
   "execution_count": 67,
   "metadata": {},
   "outputs": [],
   "source": [
    "def compute_error(theta, X, Y):\n",
    "    Z = np.matmul(X, theta) - Y \n",
    "    m = Y.size\n",
    "    return (np.matmul(np.transpose(Z), Z))/(2*m) "
   ]
  },
  {
   "cell_type": "code",
   "execution_count": 72,
   "metadata": {},
   "outputs": [],
   "source": [
    "def compute_gradient(theta , X, Y) : \n",
    "    Z = Y - np.matmul(X, theta) \n",
    "    # print(Z)\n",
    "    gradient = np.zeros(theta.size) \n",
    "    for j in range(theta.size):\n",
    "        X_j = X[:, j] \n",
    "        gradient[j] = np.sum(Z * X_j)\n",
    "    # gradient = np.sum( Z * X , axis = 0)\n",
    "    # print(gradient)  \n",
    "    return gradient "
   ]
  },
  {
   "cell_type": "code",
   "execution_count": 79,
   "metadata": {},
   "outputs": [
    {
     "name": "stdout",
     "output_type": "stream",
     "text": [
      "gradient descent result is [-4.07313072e-17  6.55064426e-01]\n",
      "actual theta is [-1.38777878e-17  6.55064426e-01]\n"
     ]
    }
   ],
   "source": [
    "dim = 2 \n",
    "theta = np.zeros(dim) \n",
    "X = acidities.to_numpy()  \n",
    "# print(X) \n",
    "Y = density_arr \n",
    "# print(Y)  \n",
    "\n",
    "# compute_gradient(theta, X, Y) \n",
    "learning_param = 0.01 \n",
    "\n",
    "# theta_o = (XtX)-1XtY \n",
    "inv = np.linalg.inv(np.matmul(np.transpose(X), X)) \n",
    "\n",
    "actual_theta = np.matmul(np.matmul(inv, np.transpose(X)), Y) \n",
    "\n",
    "no_of_iterations = 100000\n",
    "for iter in range(no_of_iterations):\n",
    "       error = compute_error(theta, X,Y) \n",
    "       # print(\"error is\", error)  \n",
    "       theta = theta + learning_param * compute_gradient(theta, X, Y) \n",
    "\n",
    "print(\"gradient descent result is\",theta)\n",
    "print(\"actual theta is\", actual_theta)  "
   ]
  }
 ],
 "metadata": {
  "kernelspec": {
   "display_name": "base",
   "language": "python",
   "name": "python3"
  },
  "language_info": {
   "codemirror_mode": {
    "name": "ipython",
    "version": 3
   },
   "file_extension": ".py",
   "mimetype": "text/x-python",
   "name": "python",
   "nbconvert_exporter": "python",
   "pygments_lexer": "ipython3",
   "version": "3.11.4"
  },
  "orig_nbformat": 4
 },
 "nbformat": 4,
 "nbformat_minor": 2
}
