{
 "cells": [
  {
   "cell_type": "code",
   "execution_count": null,
   "metadata": {},
   "outputs": [],
   "source": [
    "import pandas as pd \n",
    "import numpy as np \n",
    "import matplotlib.pyplot as plt\n",
    "import matplotlib.animation as animation \n",
    "import mpl_toolkits.mplot3d.axes3d as p3\n"
   ]
  },
  {
   "cell_type": "code",
   "execution_count": null,
   "metadata": {},
   "outputs": [],
   "source": [
    "acidities = pd.read_csv(\"./ass1_data/data/q1/linearX.csv\")\n",
    "densities = pd.read_csv(\"./ass1_data/data/q1/linearY.csv\") "
   ]
  },
  {
   "cell_type": "code",
   "execution_count": null,
   "metadata": {},
   "outputs": [],
   "source": [
    "def normalize(arr):\n",
    "    mean = arr.mean()\n",
    "    # print(mean)    \n",
    "    std_dev = arr.std()  \n",
    "    arr = (arr - mean)/std_dev  \n",
    "    return arr "
   ]
  },
  {
   "cell_type": "code",
   "execution_count": null,
   "metadata": {},
   "outputs": [],
   "source": [
    "\n",
    "acid_arr = acidities[\"Acidities\"].to_numpy()\n",
    "acid_arr = normalize(acid_arr) \n",
    " \n",
    "\n",
    "acidities[\"Intercept\"] = 1 \n",
    "cols = acidities.columns.to_list() \n",
    "cols = cols[1:] + cols[:1] \n",
    "acidities = acidities[cols]   \n",
    "acidities[\"Acidities\"] = acid_arr\n",
    "\n",
    "density_arr = densities[\"Densities\"].to_numpy() \n",
    "# density_arr = normalize(density_arr)\n",
    "densities[\"Densities\"] = density_arr \n",
    "\n",
    "X = acidities.to_numpy()  \n",
    "Y = density_arr\n"
   ]
  },
  {
   "cell_type": "code",
   "execution_count": null,
   "metadata": {},
   "outputs": [],
   "source": [
    "def compute_error(theta, X, Y):\n",
    "    Z = np.matmul(X, theta) - Y \n",
    "    m = Y.size\n",
    "    return (np.matmul(np.transpose(Z), Z))/(2*m) "
   ]
  },
  {
   "cell_type": "code",
   "execution_count": null,
   "metadata": {},
   "outputs": [],
   "source": [
    "def compute_gradient(theta , X, Y) : \n",
    "    Z = Y - np.matmul(X, theta) \n",
    "    gradient = np.zeros(theta.size)\n",
    "    m = Y.size  \n",
    "    for j in range(theta.size):\n",
    "        X_j = X [:, j] \n",
    "        gradient[j] = np.sum(Z * X_j) / m \n",
    "    return gradient "
   ]
  },
  {
   "cell_type": "code",
   "execution_count": null,
   "metadata": {},
   "outputs": [],
   "source": [
    "def gradient_descent(X, Y, learning_param):\n",
    "       dim = X[0].size  \n",
    "       theta = np.zeros(dim)  \n",
    "\n",
    "       inv = np.linalg.inv(np.matmul(np.transpose(X), X)) \n",
    "       actual_theta = np.matmul(np.matmul(inv, np.transpose(X)), Y) \n",
    "\n",
    "       no_of_iterations = 0\n",
    "       initial_error = compute_error(theta, X, Y) \n",
    "       error = initial_error \n",
    "       epsilon = 0.00000001 * initial_error  \n",
    "       # epsilon = 1e-6\n",
    "       prev_error = 2*initial_error # some large value initially   \n",
    "\n",
    "       plot_data = [] \n",
    "       # current_grad = compute_gradient(theta, X, Y) \n",
    "       # epsilon = 0.001 * np.linalg.norm(current_grad) \n",
    "       # while (np.linalg.norm(current_grad) > epsilon):\n",
    "       while (abs(error - prev_error) > epsilon):\n",
    "              prev_error = error \n",
    "              current_grad = compute_gradient(theta, X, Y )\n",
    "              theta = theta + learning_param * current_grad \n",
    "              error = compute_error(theta, X,Y)  \n",
    "              # print(f\"Iteration {no_of_iterations} | Theta {theta} | Error {error} | Grad {current_grad}\")\n",
    "              plot_data.append([theta[0], theta[1], error]) \n",
    "              no_of_iterations += 1 \n",
    "\n",
    "       print(\"gradient descent result is\",theta)\n",
    "       print(\"actual theta is\", actual_theta)  \n",
    "       print(f\"no of iterations is {no_of_iterations}\") \n",
    "       return (theta, plot_data) "
   ]
  },
  {
   "cell_type": "markdown",
   "metadata": {},
   "source": [
    "## plotting  the data"
   ]
  },
  {
   "cell_type": "code",
   "execution_count": null,
   "metadata": {},
   "outputs": [],
   "source": [
    "def plot_2d_plot(acid_arr,  acidities, Y, theta):\n",
    "    print(acidities) \n",
    "    print(acid_arr)\n",
    "    plt.scatter(acid_arr, Y, label = \"training set\") \n",
    "    plt.title(\"Training set vs hypothesis function\")\n",
    "\n",
    "    H_theta = np.matmul(  acidities, theta ) \n",
    "    plt.plot(acid_arr, H_theta, label = \"hypothesis function\", color = \"green\") \n",
    "\n",
    "    plt.xlabel(\"X axis (normalized acidities)\") \n",
    "    plt.ylabel(\"Y axis (Densities)\" )\n",
    "\n",
    "    plt.legend()\n",
    "    plt.show() \n",
    "\n",
    "theta, plot_data = gradient_descent(X, Y, 0.1) \n",
    "# plot_2d_plot(acid_arr, acidities, Y, theta) "
   ]
  },
  {
   "cell_type": "markdown",
   "metadata": {},
   "source": [
    "## 3D mesh plot of error function"
   ]
  },
  {
   "cell_type": "code",
   "execution_count": null,
   "metadata": {},
   "outputs": [],
   "source": [
    "%matplotlib ipympl \n",
    "\n",
    "theta_x = np.arange(0 , 2, 0.01 ) \n",
    "theta_y = np.arange(-0.6 , 0.6 , 0.01) \n",
    "X_mesh, Y_mesh = np.meshgrid(theta_x, theta_y) \n",
    "X_row, X_col = X_mesh.shape\n",
    "Y_row, Y_col = Y_mesh.shape \n",
    "\n",
    "error_surface = np.zeros((X_row, X_col))  \n",
    "\n",
    "for i in range(X_row):\n",
    "    for j in range(X_col):\n",
    "        x_coord = X_mesh[i,j] \n",
    "        y_coord = Y_mesh[i,j] \n",
    "        temp_theta = np.array([x_coord, y_coord])   \n",
    "        error_surface[i,j] = compute_error(temp_theta, X, Y)\n",
    "\n",
    "\n",
    "# fig = plt.figure(dpi=150)\n"
   ]
  },
  {
   "cell_type": "code",
   "execution_count": null,
   "metadata": {},
   "outputs": [],
   "source": [
    "def plot_3d_plot(plot_data, save_name):\n",
    "    fig = plt.figure() \n",
    "    ax = fig.add_subplot(111, projection='3d')\n",
    "    sc = ax.scatter([], [], [], c='b', marker='.', s = 8, alpha=0.7)\n",
    "\n",
    "    ax.set(xlim3d=(0, 2), xlabel='Theta 0')\n",
    "    ax.set(ylim3d=(-0.6, 0.6), ylabel='Theta 1')\n",
    "    ax.set(zlim3d=(0.2, 0.8), zlabel='Z')\n",
    "\n",
    "    ax.plot_surface(X_mesh, Y_mesh, error_surface, alpha = 0.4, cmap='viridis')    \n",
    "\n",
    "\n",
    "    def init():\n",
    "        sc._offsets3d = ([], [], [])\n",
    "        return sc, \n",
    "\n",
    "    def update(frame):\n",
    "        # if (frame % 5 == 0):\n",
    "        x, y, z = zip(*plot_data[:frame+1])\n",
    "        sc._offsets3d = (x, y, z)\n",
    "\n",
    "        if frame > 0:\n",
    "            prev_x, prev_y, prev_z = plot_data[frame-1]\n",
    "            arrow_x = x[-1] - prev_x\n",
    "            arrow_y = y[-1] - prev_y\n",
    "            arrow_z = z[-1] - prev_z\n",
    "            ax.quiver(prev_x, prev_y, prev_z, arrow_x, arrow_y, arrow_z, color='red', linewidth = 0.5 )\n",
    "\n",
    "        return sc,\n",
    "\n",
    "    azim_angle = 63 # Adjust the azimuth angle (horizontal rotation)\n",
    "    elev_angle = 38  # Adjust the elevation angle (vertical rotation)\n",
    "    ax.view_init(elev=elev_angle, azim=azim_angle)\n",
    "\n",
    "\n",
    "    frame_interval = 200 \n",
    "    ani = animation.FuncAnimation(fig, update, frames=len(plot_data), init_func=init, blit=True, interval = \n",
    "                                frame_interval)\n",
    "    ani.save( save_name , writer='imagemagick', dpi = 300) \n",
    "    plt.show()"
   ]
  },
  {
   "cell_type": "code",
   "execution_count": null,
   "metadata": {},
   "outputs": [],
   "source": [
    "plot_3d_plot(plot_data, \"1_c_animation.png\") "
   ]
  },
  {
   "cell_type": "markdown",
   "metadata": {},
   "source": []
  },
  {
   "cell_type": "markdown",
   "metadata": {},
   "source": [
    "## Plotting Contours"
   ]
  },
  {
   "cell_type": "code",
   "execution_count": null,
   "metadata": {},
   "outputs": [],
   "source": [
    "def plot_contours(plot_data, save_name, time_interval, MOD): \n",
    "    plot_data = [plot_data[i] for i in range(0, len(plot_data), MOD)] \n",
    "    fig, ax2d = plt.subplots() \n",
    "    plot_data = np.array(plot_data)\n",
    "    contour_data = plot_data[:, 0:2 ] \n",
    "\n",
    "\n",
    "    contour = ax2d.contour(X_mesh, Y_mesh, error_surface, levels=25, cmap='rainbow')\n",
    "    colorbar = plt.colorbar(contour) \n",
    "    colorbar.set_label(\"Error values\")\n",
    "    ax2d.set_xlabel('Theta 0')\n",
    "    ax2d.set_ylabel('Theta 1') \n",
    "    ax2d.set_title(\"2D contour plot of gradient descent\") \n",
    "    ax2d.set(xlim = (0, 2), xlabel='Theta 0')\n",
    "    ax2d.set(ylim =(-0.6, 0.6), ylabel='Theta 1')\n",
    "\n",
    "    sc = ax2d.scatter([], [], color='grey', marker='.', s = 6 ) \n",
    "    arrows = [] \n",
    "\n",
    "    def update_contour_plot(frame):\n",
    "        # sc.set_offsets(contour_data[: frame])\n",
    "        if frame > 1:\n",
    "            prev_point = contour_data[frame - 2] \n",
    "            curr_point = contour_data[frame - 1] \n",
    "\n",
    "            direction = np.array(curr_point) - np.array(prev_point)\n",
    "            direction /= np.linalg.norm(direction)\n",
    "            \n",
    "            tail_offset = direction * 0.05\n",
    "\n",
    "            arrow = ax2d.annotate('', curr_point, prev_point - tail_offset, arrowprops=dict(arrowstyle='->', color='black',\n",
    "                                mutation_scale=6)) \n",
    "            arrows.append(arrow)\n",
    "        \n",
    "        return arrows\n",
    "\n",
    "    ani = animation.FuncAnimation(fig, update_contour_plot, frames=len(contour_data), interval= time_interval, repeat = True, blit = True )\n",
    "\n",
    "    animation_filename = save_name \n",
    "    ani.save(animation_filename, writer='imagemagick', dpi = 300)\n",
    "    # plt.colorbar()\n",
    "    plt.show()"
   ]
  },
  {
   "cell_type": "code",
   "execution_count": null,
   "metadata": {},
   "outputs": [],
   "source": [
    " \n",
    "learning_params = [(0.1, 200), (0.025, 200), (0.001, 2)  ] \n",
    "# learning_params = [(0.025, 200)] \n",
    "# learning_params = [(0.1, 200)]\n",
    "for learning_param, time_interval in learning_params:\n",
    "    theta, plot_data = gradient_descent(X, Y, learning_param)  \n",
    "    # plot_contours(plot_data, f\"1_e_animation_{learning_param}.png\", time_interval)    \n"
   ]
  }
 ],
 "metadata": {
  "kernelspec": {
   "display_name": "base",
   "language": "python",
   "name": "python3"
  },
  "language_info": {
   "codemirror_mode": {
    "name": "ipython",
    "version": 3
   },
   "file_extension": ".py",
   "mimetype": "text/x-python",
   "name": "python",
   "nbconvert_exporter": "python",
   "pygments_lexer": "ipython3",
   "version": "3.11.4"
  },
  "orig_nbformat": 4
 },
 "nbformat": 4,
 "nbformat_minor": 2
}
